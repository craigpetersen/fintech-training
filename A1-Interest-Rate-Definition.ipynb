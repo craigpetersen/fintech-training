{
 "cells": [
  {
   "attachments": {},
   "cell_type": "markdown",
   "metadata": {},
   "source": [
    "<h1>Interest rate definition</h1>\n",
    "\n",
    "Interest rate is defined as the amount charged by a lender to a borrower for the use of an asset. So, for the borrower, the interest rate is the cost of the debt, while for the lender, it is the rate of return.\n",
    "\n",
    "When you make a deposit into a bank you have in effect lent money to the bank. The interest rate reflects profit made from this financial arrangement.\n",
    "\n",
    "The interest rate is commonly expressed as a percentage of the principal amount. It is normally represented on an annual basis, known as the annual percentage rate (APR)."
   ]
  },
  {
   "attachments": {},
   "cell_type": "markdown",
   "metadata": {},
   "source": [
    "<h1>Compound Interest Rate definition</h1>\n",
    "\n",
    "Compound interest is defined as interest that is earned on the initial amount invested and potentially on any further interest. In other words, compound interest is the interest on both the initial principal and interest which has been accumulated.\n",
    "\n",
    "You can use the compound interest equation to find the value of an investment after a specified period or estimate the rate you have earned when buying and selling some investments."
   ]
  },
  {
   "attachments": {},
   "cell_type": "markdown",
   "metadata": {},
   "source": [
    "<h1>Basic Examples of  Calculating Interest</h1>\n",
    "\n",
    "If we invest a nominal amount of $1000 for 5 years at say a rate of 11% how much will we have?\n",
    "\n",
    "We can calculate the following;\n",
    "\n",
    "Interest rate per annum is 11% (r)\n",
    "$1000 in bank for 5 years (PV)\n",
    "\n",
    "| Year | Amount | Equivalent |\n",
    "| ---- | ------ | ---------- |\n",
    "| 0 | $1000\t| $1000 x (1+r)^0 |\n",
    "| 1\t| $1000 + ($1000 * 11%) = $1110.00 | $1000 x (1+r)^1 |\n",
    "| 2\t| $1110 + ($1110 * 11%) = $1232.1 |\t$1000 x (1+r)^2 |\n",
    "| 3\t| $1232.10 + $1232.1 * 11% = $1367.63 |\t$1000 x (1+r)^3 |\n",
    "| 4\t| $1367.63 + $1367.63  * 11%  = $1518.07 | $1000 x (1+r)^4 |\n",
    "| 5\t| $1518.07 + $1518.07 * 11% = $1685.06 | $1000 x (1+r)^5 |\n",
    "\n",
    "The answer is $1685.06\n",
    "\n",
    "</br>\n",
    "So the formula can be extrapolated from the above to yield ...\n",
    "</br>\n",
    "</br>\n",
    "$\n",
    "PV = \\frac{FV}{(1 + \\frac{r}{n})^nt}\n",
    "$\n",
    "<br>\n",
    "</br>\n",
    "FV  -> Future Value of the investment </br>\n",
    "PV  -> Present Value of the investment</br>\n",
    "r   -> Annual Interest Rate</br>\n",
    "n   -> Number of times the interest is compounded per year (compounding frequency)\n",
    "t   -> Number of years the money is invested for\n",
    "</br>\n"
   ]
  },
  {
   "attachments": {},
   "cell_type": "markdown",
   "metadata": {},
   "source": [
    "<h1>Problem</h1>\n",
    "\n",
    "You invest $10,000 for 10 years at the annual interest rate of 5%. The interest rate is compounded yearly. What will be the value of your investment after 10 years?\n",
    "</br>\n",
    "You invest $10,000 at the annual interest rate of 5%. The interest rate is compounded monthly. What will be the value of your investment after 10 years?\n",
    "</br>"
   ]
  },
  {
   "cell_type": "code",
   "execution_count": 1,
   "metadata": {},
   "outputs": [
    {
     "name": "stdout",
     "output_type": "stream",
     "text": [
      "1685.0581551000007\n"
     ]
    }
   ],
   "source": [
    "def future_value(present_value, annual_rate, periods_per_year, years):\n",
    "    \"\"\"Return the future value of a present value given annual rate and periods\"\"\"\n",
    "    rate_per_period = annual_rate / periods_per_year\n",
    "    periods = periods_per_year * years\n",
    "    \n",
    "    return present_value * (1 + rate_per_period) ** periods\n",
    "\n",
    "fv = future_value(present_value=1000, annual_rate=0.11, periods_per_year=1, years=5)\n",
    "\n",
    "print(fv)"
   ]
  }
 ],
 "metadata": {
  "kernelspec": {
   "display_name": ".venv",
   "language": "python",
   "name": "python3"
  },
  "language_info": {
   "codemirror_mode": {
    "name": "ipython",
    "version": 3
   },
   "file_extension": ".py",
   "mimetype": "text/x-python",
   "name": "python",
   "nbconvert_exporter": "python",
   "pygments_lexer": "ipython3",
   "version": "3.11.2"
  },
  "orig_nbformat": 4
 },
 "nbformat": 4,
 "nbformat_minor": 2
}
