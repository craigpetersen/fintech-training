{
 "cells": [
  {
   "attachments": {},
   "cell_type": "markdown",
   "metadata": {},
   "source": [
    "<h1>Python Types</h1>\n",
    "\n",
    "There are four basic or constituent collective types in Python.  These are Dictionaries, Lists, Tuples and Sets. \n",
    "\n",
    "Lists can be used to store a variety of different types e.g. integers, strings, tuples, dictionaries, functions etc.  Lists are not hashable so cannot be used in say a dictionaries as keys.  Lists are mutable types.\n",
    "\n",
    "Dictionaries are structures (hash maps) used to store data by key - note keys must be hashable\n",
    "\n",
    "Tuples are hashable and immutable types.  Tuples are generally more efficient than lists.\n",
    "\n",
    "Sets are collections which by default are unordered and un-indexed.  They are also unique in what they contain."
   ]
  },
  {
   "cell_type": "code",
   "execution_count": null,
   "metadata": {},
   "outputs": [],
   "source": [
    "# Simple list\n",
    "m = [1,2,3,4]\n",
    "print(m)\n",
    "\n",
    "# Using a list comprehension\n",
    "n=[*range(1,5)]\n",
    "print(n)\n",
    "\n",
    "# Using a loop\n",
    "p = []\n",
    "for i in range(1,5):\n",
    "    p.append(i)\n",
    "print(p)\n"
   ]
  },
  {
   "cell_type": "code",
   "execution_count": null,
   "metadata": {},
   "outputs": [],
   "source": [
    "# Simple dictionary\n",
    "m = {'a':1,'b':2,'c':3,'d':4}\n",
    "print(m)\n",
    "\n",
    "# Using a dictionary comprehension\n",
    "n = {i:i for i in range(1,5)}\n",
    "print(n)\n",
    "\n",
    "# Using a loop\n",
    "p = {}\n",
    "for i in range(1,5):\n",
    "    p[i] = i\n",
    "print(p)\n"
   ]
  },
  {
   "cell_type": "code",
   "execution_count": null,
   "metadata": {},
   "outputs": [],
   "source": [
    "# Simple set\n",
    "m = {1,2,3,4}\n",
    "print(m)\n",
    "\n",
    "# Using a set comprehension\n",
    "n = {*range(1,5)}\n",
    "print(n)\n",
    "\n",
    "# Using a loop\n",
    "p = set()\n",
    "for i in range(1,5):\n",
    "    p.add(i)\n",
    "print(p)"
   ]
  },
  {
   "cell_type": "code",
   "execution_count": null,
   "metadata": {},
   "outputs": [],
   "source": [
    "# Simple tuple\n",
    "m = (1,2,3,4)\n",
    "print(m)\n",
    "\n",
    "# Using a tuple comprehension\n",
    "n = (*range(1,5),)\n",
    "print(n)\n",
    "\n",
    "# Using a loop\n",
    "p = ()\n",
    "for i in range(1,5):\n",
    "    p += (i,)\n",
    "print(p)"
   ]
  }
 ],
 "metadata": {
  "kernelspec": {
   "display_name": ".venv",
   "language": "python",
   "name": "python3"
  },
  "language_info": {
   "codemirror_mode": {
    "name": "ipython",
    "version": 3
   },
   "file_extension": ".py",
   "mimetype": "text/x-python",
   "name": "python",
   "nbconvert_exporter": "python",
   "pygments_lexer": "ipython3",
   "version": "3.11.2"
  },
  "orig_nbformat": 4
 },
 "nbformat": 4,
 "nbformat_minor": 2
}
