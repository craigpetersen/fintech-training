{
 "cells": [
  {
   "cell_type": "markdown",
   "metadata": {},
   "source": []
  },
  {
   "attachments": {},
   "cell_type": "markdown",
   "metadata": {},
   "source": [
    "<h1>Your first program</h1>\n",
    "<br>\n",
    " Printing standard output to the console. This is typically the first step in learning any new language.  The example below shows how to print the idiomatic text \"Hello World!\" in Python."
   ]
  },
  {
   "cell_type": "code",
   "execution_count": null,
   "metadata": {},
   "outputs": [],
   "source": [
    "print('hello world')"
   ]
  },
  {
   "attachments": {},
   "cell_type": "markdown",
   "metadata": {},
   "source": [
    "<h1>Interesting things about \"print\"</h1>\n",
    "\n",
    "The print command \"prints\" output to sys.stdout stream.  It takes several args and supports a rich set of built-in formatting.  When using a command for the first time its often convenient to use the built-in \"help()\" function to see the command args e.g. help(print) -> \n",
    "\n",
    "Help on built-in function print in module built-ins:\n",
    "\n",
    "print(*args, sep=' ', end='\\n', file=None, flush=False)\n",
    "    Prints the values to a stream, or to sys.stdout by default.\n",
    "    \n",
    "    sep\n",
    "      string inserted between values, default a space.\n",
    "    end\n",
    "      string appended after the last value, default a newline.\n",
    "    file\n",
    "      a file-like object (stream); defaults to the current sys.stdout.\n",
    "    flush\n",
    "      whether to forcibly flush the stream.\n",
    "\n",
    " Note:  The print command is a function but earlier python versions (2.0+) had print defined as a statement.  This caused lots of migration issues when upgrading from Python2 to Python3."
   ]
  },
  {
   "cell_type": "code",
   "execution_count": null,
   "metadata": {},
   "outputs": [],
   "source": [
    "help(print)"
   ]
  }
 ],
 "metadata": {
  "kernelspec": {
   "display_name": ".venv",
   "language": "python",
   "name": "python3"
  },
  "language_info": {
   "codemirror_mode": {
    "name": "ipython",
    "version": 3
   },
   "file_extension": ".py",
   "mimetype": "text/x-python",
   "name": "python",
   "nbconvert_exporter": "python",
   "pygments_lexer": "ipython3",
   "version": "3.11.2"
  },
  "orig_nbformat": 4
 },
 "nbformat": 4,
 "nbformat_minor": 2
}
