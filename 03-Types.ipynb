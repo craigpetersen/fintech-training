{
 "cells": [
  {
   "attachments": {},
   "cell_type": "markdown",
   "metadata": {},
   "source": []
  },
  {
   "cell_type": "code",
   "execution_count": null,
   "metadata": {},
   "outputs": [],
   "source": [
    "# Types.  Python has a number of built-in types.\n",
    "\n",
    "\"\"\"\n",
    "int:  integers, e.g. 1, 2, 3, 4, 5, 6, 7, 8, 9, 10\n",
    "float:  floating point numbers, e.g. 1.0, 2.0, 3.0, 4.0, 5.0, 6.0, 7.0, 8.0, 9.0, 10.0\n",
    "str:  strings, e.g. \"hello\", \"world\", \"foo\", \"bar\", \"baz\", \"qux\"\n",
    "bool:  booleans, e.g. True, False\n",
    "list:  lists, e.g. [1, 2, 3, 4, 5, 6, 7, 8, 9, 10], [\"hello\", \"world\", \"foo\", \"bar\", \"baz\", \"qux\"], [True, False, True, False, True, False, True, False, True, False]\n",
    "dict:  dictionaries, e.g. {\"a\": 1, \"b\": 2, \"c\": 3, \"d\": 4, \"e\": 5, \"f\": 6, \"g\": 7, \"h\": 8, \"i\": 9, \"j\": 10}, {\"a\": \"hello\", \"b\": \"world\", \"c\": \"foo\", \"d\": \"bar\", \"e\": \"baz\", \"f\": \"qux\"}, {\"a\": True, \"b\": False, \"c\": True, \"d\": False, \"e\": True, \"f\": False, \"g\": True, \"h\": False, \"i\": True, \"j\": False}\n",
    "NoneType:  None, e.g. None\n",
    "tuple:  tuples, e.g. (1, 2, 3, 4, 5, 6, 7, 8, 9, 10), (\"hello\", \"world\", \"foo\", \"bar\", \"baz\", \"qux\"), (True, False, True, False, True, False, True, False, True, False)\n",
    "set:  sets, e.g. {1, 2, 3, 4, 5, 6, 7, 8, 9, 10}, {\"hello\", \"world\", \"foo\", \"bar\", \"baz\", \"qux\"}, {True, False, True, False, True, False, True, False, True, False}\n",
    "frozenset:  frozensets, e.g. frozenset({1, 2, 3, 4, 5, 6, 7, 8, 9, 10}), frozenset({\"hello\", \"world\", \"foo\", \"bar\", \"baz\", \"qux\"}), frozenset({True, False, True, False, True, False, True, False, True, False})\n",
    "range:  ranges, e.g. range(0, 10), range(0, 10, 1), range(0, 10, 2), range(0, 10, 3), range(0, 10, 4), range(0, 10, 5), range(0, 10, 6), range(0, 10, 7), range(0, 10, 8), range(0, 10, 9), range(0, 10, 10)\n",
    "bytes:  bytes, e.g. b\"hello\", b\"world\", b\"foo\", b\"bar\", b\"baz\", b\"qux\"\n",
    "bytearray:  bytearrays, e.g. bytearray(b\"hello\"), bytearray(b\"world\"), bytearray(b\"foo\"), bytearray(b\"bar\"), bytearray(b\"baz\"), bytearray(b\"qux\")\n",
    "memoryview:  memoryviews, e.g. memoryview(b\"hello\"), memoryview(b\"world\"), memoryview(b\"foo\"), memoryview(b\"bar\"), memoryview(b\"baz\"), memoryview(b\"qux\")\n",
    "complex:  complex numbers, e.g. 1j, 2j, 3j, 4j, 5j, 6j, 7j, 8j, 9j, 10j\n",
    "type:  types, e.g. type(1), type(1.0), type(\"hello\"), type(True), type([1, 2, 3, 4, 5, 6, 7, 8, 9, 10]), type({\"a\": 1, \"b\": 2, \"c\": 3, \"d\": 4, \"e\": 5, \"f\": 6, \"g\": 7, \"h\": 8, \"i\": 9, \"j\": 10}), type(None), type((1, 2, 3, 4, 5, 6, 7, 8, 9, 10)), type({1, 2, 3, 4, 5, 6, 7, 8, 9, 10}), type(frozenset({1, 2, 3, 4, 5, 6, 7, 8, 9, 10})), type(range(0, 10)), type(b\"hello\"), type(bytearray(b\"hello\")), type(memoryview(b\"hello\")), type(1j), type(type(1))\n",
    "function:  functions, e.g. print, type, len, range, int, float, str, bool, list, dict, None, tuple, set, frozenset, bytes, bytearray, memoryview, complex, type, function\n",
    "module:  modules, e.g. sys, os, math, random, time, datetime, calendar, itertools, functools, operator, collections, re, string, unicodedata, io, json, csv, pickle, sqlite3, multiprocessing, threading, queue, socket, http, urllib, email, smtplib, imaplib, ftplib, telnetlib, subprocess, sys, os, math, random, time, datetime, calendar, itertools, functools, operator, collections, re, string, unicodedata, io, json, csv, pickle, sqlite3, multiprocessing, threading, queue, socket, http, urllib, email, smtplib, imaplib, ftplib, telnetlib, subprocess\n",
    "class:  classes, e.g. int, float, str, bool, list, dict, None, tuple, set, frozenset, range, bytes, bytearray, memoryview, complex, type, function, module, class\n",
    "\"\"\""
   ]
  },
  {
   "cell_type": "code",
   "execution_count": null,
   "metadata": {},
   "outputs": [],
   "source": [
    "\"\"\"\n",
    "Python has these keywords: \n",
    "False \n",
    "None \n",
    "True \n",
    "and \n",
    "as \n",
    "assert \n",
    "break \n",
    "class \n",
    "finally\n",
    "continue\n",
    "for\n",
    "def\n",
    "del\n",
    "elif\n",
    "else\n",
    "except\n",
    "from\n",
    "global\n",
    "if\n",
    "import\n",
    "in\n",
    "is\n",
    "lambda\n",
    "nonlocal\n",
    "not\n",
    "or\n",
    "pass\n",
    "raise\n",
    "return\n",
    "try\n",
    "while\n",
    "with\n",
    "yield\n",
    "\"\"\""
   ]
  },
  {
   "cell_type": "code",
   "execution_count": null,
   "metadata": {},
   "outputs": [],
   "source": [
    "print(6==6 is True)"
   ]
  },
  {
   "cell_type": "code",
   "execution_count": null,
   "metadata": {},
   "outputs": [],
   "source": []
  }
 ],
 "metadata": {
  "language_info": {
   "name": "python"
  },
  "orig_nbformat": 4
 },
 "nbformat": 4,
 "nbformat_minor": 2
}
